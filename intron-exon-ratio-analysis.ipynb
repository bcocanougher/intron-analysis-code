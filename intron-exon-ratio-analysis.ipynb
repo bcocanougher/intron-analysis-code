{
 "cells": [
  {
   "cell_type": "markdown",
   "metadata": {},
   "source": [
    "#Percent of gene nucleotides that are introns in Drosophila\n",
    "The purpose of this script is to determine the percentage of nucleotides found in a gene that are introns (as compared to exons)."
   ]
  },
  {
   "cell_type": "markdown",
   "metadata": {},
   "source": [
    "##First we'll look at Drosophila"
   ]
  },
  {
   "cell_type": "code",
   "execution_count": 2,
   "metadata": {
    "collapsed": false
   },
   "outputs": [],
   "source": [
    "import re\n",
    "\n",
    "import pandas as pd\n",
    "import numpy as np\n",
    "import matplotlib.pyplot as plt\n",
    "import matplotlib\n",
    "matplotlib.style.use('ggplot')\n",
    "%matplotlib inline"
   ]
  },
  {
   "cell_type": "code",
   "execution_count": 3,
   "metadata": {
    "collapsed": false
   },
   "outputs": [],
   "source": [
    "textfile = open(\"mrna-dme1.txt\", 'r')\n",
    "filetext = textfile.read()\n",
    "textfile.close()\n",
    "int_matches = re.findall(\"intr_sum:.......\", filetext)\n",
    "ex_matches = re.findall(\"ex_sum:.......\", filetext)"
   ]
  },
  {
   "cell_type": "code",
   "execution_count": 4,
   "metadata": {
    "collapsed": false,
    "scrolled": true
   },
   "outputs": [
    {
     "data": {
      "text/plain": [
       "15624"
      ]
     },
     "execution_count": 4,
     "metadata": {},
     "output_type": "execute_result"
    }
   ],
   "source": [
    "len(int_matches)"
   ]
  },
  {
   "cell_type": "markdown",
   "metadata": {},
   "source": [
    "now that I have all the intr_sums, I want to extract the numbers and sum them."
   ]
  },
  {
   "cell_type": "code",
   "execution_count": 5,
   "metadata": {
    "collapsed": false
   },
   "outputs": [
    {
     "data": {
      "text/plain": [
       "list"
      ]
     },
     "execution_count": 5,
     "metadata": {},
     "output_type": "execute_result"
    }
   ],
   "source": [
    "type(int_matches)"
   ]
  },
  {
   "cell_type": "code",
   "execution_count": 6,
   "metadata": {
    "collapsed": true
   },
   "outputs": [],
   "source": [
    "int_str = ''.join(int_matches)\n",
    "[int(s) for s in int_str.split() if s.isdigit()]\n",
    "introns = re.findall(r'\\b\\d+\\b', int_str)\n",
    "# convert from list ot string\n",
    "introns = map(int, introns)\n",
    "dme_int_total = sum(introns)"
   ]
  },
  {
   "cell_type": "code",
   "execution_count": 7,
   "metadata": {
    "collapsed": false
   },
   "outputs": [
    {
     "data": {
      "text/plain": [
       "[]"
      ]
     },
     "execution_count": 7,
     "metadata": {},
     "output_type": "execute_result"
    }
   ],
   "source": [
    "[int(s) for s in int_str.split() if s.isdigit()]"
   ]
  },
  {
   "cell_type": "markdown",
   "metadata": {},
   "source": [
    "Now I can follow the same procedure to extract the total length of exons."
   ]
  },
  {
   "cell_type": "code",
   "execution_count": 8,
   "metadata": {
    "collapsed": false
   },
   "outputs": [
    {
     "data": {
      "text/plain": [
       "15624"
      ]
     },
     "execution_count": 8,
     "metadata": {},
     "output_type": "execute_result"
    }
   ],
   "source": [
    "len(ex_matches)"
   ]
  },
  {
   "cell_type": "code",
   "execution_count": 9,
   "metadata": {
    "collapsed": false
   },
   "outputs": [],
   "source": [
    "ex_str = ''.join(ex_matches)\n",
    "[int(s2) for s2 in ex_str.split() if s2.isdigit()]\n",
    "exons = re.findall(r'\\b\\d+\\b', ex_str)\n",
    "exons = map(int, exons)\n",
    "dme_ex_total = sum(exons)"
   ]
  },
  {
   "cell_type": "code",
   "execution_count": 10,
   "metadata": {
    "collapsed": false
   },
   "outputs": [
    {
     "data": {
      "text/plain": [
       "[1005, 730, 3224, 3224, 1570, 1751, 1819, 1855, 1823, 1570]"
      ]
     },
     "execution_count": 10,
     "metadata": {},
     "output_type": "execute_result"
    }
   ],
   "source": [
    "exons[0:10]"
   ]
  },
  {
   "cell_type": "code",
   "execution_count": 11,
   "metadata": {
    "collapsed": false
   },
   "outputs": [
    {
     "data": {
      "text/plain": [
       "[224, 3094, 1280, 1280, 9533, 3290, 3222, 3186, 3218, 9533]"
      ]
     },
     "execution_count": 11,
     "metadata": {},
     "output_type": "execute_result"
    }
   ],
   "source": [
    "introns[0:10]"
   ]
  },
  {
   "cell_type": "code",
   "execution_count": 12,
   "metadata": {
    "collapsed": false
   },
   "outputs": [
    {
     "data": {
      "text/plain": [
       "list"
      ]
     },
     "execution_count": 12,
     "metadata": {},
     "output_type": "execute_result"
    }
   ],
   "source": [
    "type(exons)"
   ]
  },
  {
   "cell_type": "code",
   "execution_count": 13,
   "metadata": {
    "collapsed": false
   },
   "outputs": [],
   "source": [
    "import pandas as pd\n",
    "s = pd.Series(introns, exons)"
   ]
  },
  {
   "cell_type": "code",
   "execution_count": 14,
   "metadata": {
    "collapsed": false
   },
   "outputs": [],
   "source": [
    "s.to_csv('intron.csv')"
   ]
  },
  {
   "cell_type": "code",
   "execution_count": 35,
   "metadata": {
    "collapsed": false
   },
   "outputs": [
    {
     "data": {
      "text/plain": [
       "1005       224\n",
       "730       3094\n",
       "3224      1280\n",
       "3224      1280\n",
       "1570      9533\n",
       "1751      3290\n",
       "1819      3222\n",
       "1855      3186\n",
       "1823      3218\n",
       "1570      9533\n",
       "2518      6974\n",
       "3117      6948\n",
       "3117      6948\n",
       "11513    61498\n",
       "1744       136\n",
       "1738       142\n",
       "3521     18710\n",
       "3521     18710\n",
       "3521     18710\n",
       "1241        49\n",
       "1353        58\n",
       "2542       236\n",
       "2542       236\n",
       "2784     37632\n",
       "3572     30670\n",
       "3572     30670\n",
       "3423     24100\n",
       "850       3581\n",
       "2692     27731\n",
       "2692     27731\n",
       "         ...  \n",
       "1039      1126\n",
       "2614      2749\n",
       "2569      2794\n",
       "3744      1619\n",
       "3744      1619\n",
       "1541       887\n",
       "1353       395\n",
       "1228       295\n",
       "2524       323\n",
       "3210      9479\n",
       "3210      9479\n",
       "3210      9479\n",
       "3160      1465\n",
       "1482       454\n",
       "1494       224\n",
       "1181        91\n",
       "2473      4770\n",
       "2473      4770\n",
       "2647      2411\n",
       "2647      2411\n",
       "5740     14529\n",
       "4724     12520\n",
       "4715     12032\n",
       "4513     11203\n",
       "2468     24358\n",
       "3764       353\n",
       "2624      1281\n",
       "1014       513\n",
       "1593       181\n",
       "1937     47143\n",
       "dtype: int64"
      ]
     },
     "execution_count": 35,
     "metadata": {},
     "output_type": "execute_result"
    }
   ],
   "source": [
    "s"
   ]
  },
  {
   "cell_type": "code",
   "execution_count": 15,
   "metadata": {
    "collapsed": false
   },
   "outputs": [
    {
     "data": {
      "text/plain": [
       "86023098"
      ]
     },
     "execution_count": 15,
     "metadata": {},
     "output_type": "execute_result"
    }
   ],
   "source": [
    "dme_int_total"
   ]
  },
  {
   "cell_type": "code",
   "execution_count": 16,
   "metadata": {
    "collapsed": false
   },
   "outputs": [
    {
     "data": {
      "text/plain": [
       "39288681"
      ]
     },
     "execution_count": 16,
     "metadata": {},
     "output_type": "execute_result"
    }
   ],
   "source": [
    "dme_ex_total"
   ]
  },
  {
   "cell_type": "code",
   "execution_count": 17,
   "metadata": {
    "collapsed": false
   },
   "outputs": [],
   "source": [
    "dme_int_total = float(dme_int_total)\n",
    "dme_ex_total = float(dme_ex_total)"
   ]
  },
  {
   "cell_type": "code",
   "execution_count": 18,
   "metadata": {
    "collapsed": false
   },
   "outputs": [
    {
     "data": {
      "text/plain": [
       "0.6864725621683178"
      ]
     },
     "execution_count": 18,
     "metadata": {},
     "output_type": "execute_result"
    }
   ],
   "source": [
    "dme_int_total/(dme_int_total+dme_ex_total)"
   ]
  },
  {
   "cell_type": "markdown",
   "metadata": {},
   "source": [
    "##Now I can perform the same analysis for the human genome."
   ]
  },
  {
   "cell_type": "markdown",
   "metadata": {},
   "source": [
    "##And now I can input any mRNA file from the fedorov lab database.\n",
    "http://bpg.utoledo.edu/~afedorov/lab/eid.html"
   ]
  },
  {
   "cell_type": "code",
   "execution_count": 40,
   "metadata": {
    "collapsed": true
   },
   "outputs": [],
   "source": [
    "def intronPercent(file):\n",
    "    # read in the data\n",
    "    textfile = open(file, 'r')\n",
    "    filetext = textfile.read()\n",
    "    textfile.close()\n",
    "    # pull out the pieces of data I want\n",
    "    int_matches = re.findall(\"intr_sum:.......\", filetext)\n",
    "    ex_matches = re.findall(\"ex_sum:.......\", filetext)\n",
    "\n",
    "    # convert list to string\n",
    "    int_str = ''.join(int_matches)\n",
    "    ex_str = ''.join(ex_matches)\n",
    "    # pull out numbers\n",
    "    [int(s) for s in int_str.split() if s.isdigit()]\n",
    "    [int(s2) for s2 in ex_str.split() if s2.isdigit()]\n",
    "\n",
    "    introns = re.findall(r'\\b\\d+\\b', int_str)\n",
    "    exons = re.findall(r'\\b\\d+\\b', ex_str)\n",
    "\n",
    "    introns = map(int, introns)\n",
    "    exons = map(int, exons)\n",
    "\n",
    "    int_total = sum(introns)\n",
    "    ex_total = sum(exons)\n",
    "\n",
    "    int_total = float(int_total)\n",
    "    ex_total = float(ex_total)\n",
    "    \n",
    "    # multiply by 100 to convert to a percentage\n",
    "    \n",
    "    return 100*(int_total/(int_total+ex_total))"
   ]
  },
  {
   "cell_type": "code",
   "execution_count": 41,
   "metadata": {
    "collapsed": false
   },
   "outputs": [],
   "source": [
    "cow = intronPercent(\"mrna-Bt3p1.txt\")"
   ]
  },
  {
   "cell_type": "code",
   "execution_count": 42,
   "metadata": {
    "collapsed": false
   },
   "outputs": [],
   "source": [
    "arabidopsis = intronPercent(\"mrna-arabidopsis2005.txt\")"
   ]
  },
  {
   "cell_type": "code",
   "execution_count": 43,
   "metadata": {
    "collapsed": false
   },
   "outputs": [],
   "source": [
    "c_elegans = intronPercent(\"mrna-ce2003.txt\")"
   ]
  },
  {
   "cell_type": "code",
   "execution_count": 44,
   "metadata": {
    "collapsed": false
   },
   "outputs": [],
   "source": [
    "drosophila = intronPercent(\"mrna-dme1.txt\")"
   ]
  },
  {
   "cell_type": "code",
   "execution_count": 45,
   "metadata": {
    "collapsed": false
   },
   "outputs": [],
   "source": [
    "grape = intronPercent(\"mrna-grape2009.txt\")"
   ]
  },
  {
   "cell_type": "code",
   "execution_count": 46,
   "metadata": {
    "collapsed": false
   },
   "outputs": [],
   "source": [
    "human1 = intronPercent(\"mrna-h36p1.txt\")"
   ]
  },
  {
   "cell_type": "code",
   "execution_count": 47,
   "metadata": {
    "collapsed": false
   },
   "outputs": [],
   "source": [
    "human2 = intronPercent(\"mrna-hs35p1.txt\")"
   ]
  },
  {
   "cell_type": "code",
   "execution_count": 48,
   "metadata": {
    "collapsed": false
   },
   "outputs": [],
   "source": [
    "human3 = intronPercent(\"mrna-hs37.txt\")"
   ]
  },
  {
   "cell_type": "code",
   "execution_count": 49,
   "metadata": {
    "collapsed": false
   },
   "outputs": [],
   "source": [
    "moss = intronPercent(\"mrna-moss2011.txt\")"
   ]
  },
  {
   "cell_type": "code",
   "execution_count": 50,
   "metadata": {
    "collapsed": false
   },
   "outputs": [],
   "source": [
    "mouse = intronPercent(\"mrna-mouse.txt\")"
   ]
  },
  {
   "cell_type": "code",
   "execution_count": 51,
   "metadata": {
    "collapsed": false
   },
   "outputs": [],
   "source": [
    "mouse2 = intronPercent(\"mrna-mouse2010.txt\")"
   ]
  },
  {
   "cell_type": "code",
   "execution_count": 52,
   "metadata": {
    "collapsed": false
   },
   "outputs": [],
   "source": [
    "populus = intronPercent(\"mrna-populus2007.txt\")"
   ]
  },
  {
   "cell_type": "code",
   "execution_count": 53,
   "metadata": {
    "collapsed": false
   },
   "outputs": [],
   "source": [
    "rice = intronPercent(\"mrna-rice2006.txt\")"
   ]
  },
  {
   "cell_type": "markdown",
   "metadata": {},
   "source": [
    "data = [\n",
    "    go.Bar(\n",
    "        x=['cow', 'arabidop', 'celegans', 'drosophila',\n",
    "          'grape', 'human1', 'human2', 'human3', 'moss',\n",
    "          'mouse', 'mouse2', 'populus', 'rice'],\n",
    "        y=[cow, arabidop, celegans, drosophila,\n",
    "          grape, human1, human2, human3, moss,\n",
    "          mouse, mouse2, populus, rice]\n",
    "    )\n",
    "]\n",
    "py.plot(data)"
   ]
  },
  {
   "cell_type": "code",
   "execution_count": 33,
   "metadata": {
    "collapsed": false,
    "scrolled": true
   },
   "outputs": [],
   "source": [
    "species = ('human1', 'human2', 'human3', 'cow', 'mouse', 'mouse2',\n",
    "          'drosophila', 'c_elegans', 'grape', 'populus', 'rice', 'moss',\n",
    "          'arabidopsis')\n",
    "\n",
    "y = [human1, human2, human3, cow, mouse, mouse2,\n",
    "    drosophila, c_elegans, grape, populus, rice, moss,\n",
    "    arabidopsis]\n",
    "\n",
    "\n"
   ]
  },
  {
   "cell_type": "code",
   "execution_count": 34,
   "metadata": {
    "collapsed": false
   },
   "outputs": [
    {
     "data": {
      "image/png": "[encoded data removed]",
      "text/plain": [
       "<matplotlib.figure.Figure at 0x10669d6d0>"
      ]
     },
     "metadata": {},
     "output_type": "display_data"
    }
   ],
   "source": [
    "fig = plt.figure(figsize=(20,10))\n",
    "fig.suptitle('Introns as percent of total gene',\n",
    "             fontsize=40,\n",
    "             fontweight='bold')\n",
    "\n",
    "ax = fig.add_subplot(111)\n",
    "fig.subplots_adjust(top=0.85)\n",
    "ax.set_ylabel('percent of gene composed of introns',\n",
    "             fontsize=25,\n",
    "             fontweight='bold')\n",
    "\n",
    "N = len(y)\n",
    "ind = np.arange(N)    # the x locations for the groups\n",
    "\n",
    "width = 0.6    # the width of the bars\n",
    "\n",
    "pos = np.arange(13)  \n",
    "# xticks(pos, \n",
    "#       species,\n",
    "#       fontsize=25,\n",
    "#       fontweight='bold')\n",
    "\n",
    "colors=['lightskyblue','lightskyblue',\n",
    "       'lightskyblue','lightskyblue',\n",
    "       'lightskyblue','lightskyblue',\n",
    "       'springgreen', 'springgreen',\n",
    "       'olive', 'olive', 'olive',\n",
    "       'olive', 'olive']\n",
    "\n",
    "plt.bar(ind, y, width, color=colors)\n",
    "\n",
    "plt.xticks(rotation=70)\n",
    "\n",
    "label_size = 15\n",
    "# mpl.rcParams['ytick.labelsize'] = label_size \n",
    "\n",
    "# savefig('intron-percent.pdf',bbox_inches='tight')\n",
    "plt.show()\n"
   ]
  },
  {
   "cell_type": "code",
   "execution_count": 100,
   "metadata": {
    "collapsed": false
   },
   "outputs": [],
   "source": [
    "    textfile = open('mrna-rice2006.txt', 'r')\n",
    "    filetext = textfile.read()\n",
    "    textfile.close()\n",
    "    # pull out the pieces of data I want\n",
    "    int_matches = re.findall(\"intr_sum:.......\", filetext)\n",
    "    ex_matches = re.findall(\"ex_sum:.......\", filetext)\n",
    "\n",
    "    # convert list to string\n",
    "    int_str = ''.join(int_matches)\n",
    "    ex_str = ''.join(ex_matches)\n",
    "    # pull out numbers\n",
    "    [int(s) for s in int_str.split() if s.isdigit()]\n",
    "    [int(s2) for s2 in ex_str.split() if s2.isdigit()]\n",
    "\n",
    "    introns = re.findall(r'\\b\\d+\\b', int_str)\n",
    "    exons = re.findall(r'\\b\\d+\\b', ex_str)\n",
    "\n",
    "    introns = map(int, introns)\n",
    "    exons = map(int, exons)\n",
    "\n",
    "    #int_total = sum(introns)\n",
    "    #ex_total = sum(exons)\n",
    "\n",
    "    #int_total = float(int_total)\n",
    "    #ex_total = float(ex_total)\n",
    "    \n",
    "    import pandas as pd\n",
    "    s = pd.Series(introns, exons)\n",
    "    s.to_csv('rice-introns.csv')\n",
    "    "
   ]
  },
  {
   "cell_type": "code",
   "execution_count": 101,
   "metadata": {
    "collapsed": false
   },
   "outputs": [
    {
     "data": {
      "text/plain": [
       "20095"
      ]
     },
     "execution_count": 101,
     "metadata": {},
     "output_type": "execute_result"
    }
   ],
   "source": [
    "len(introns)"
   ]
  },
  {
   "cell_type": "code",
   "execution_count": 102,
   "metadata": {
    "collapsed": false
   },
   "outputs": [
    {
     "data": {
      "text/plain": [
       "20095"
      ]
     },
     "execution_count": 102,
     "metadata": {},
     "output_type": "execute_result"
    }
   ],
   "source": [
    "len(exons)"
   ]
  },
  {
   "cell_type": "code",
   "execution_count": null,
   "metadata": {
    "collapsed": true
   },
   "outputs": [],
   "source": []
  }
 ],
 "metadata": {
  "kernelspec": {
   "display_name": "Python 2",
   "language": "python",
   "name": "python2"
  },
  "language_info": {
   "codemirror_mode": {
    "name": "ipython",
    "version": 2
   },
   "file_extension": ".py",
   "mimetype": "text/x-python",
   "name": "python",
   "nbconvert_exporter": "python",
   "pygments_lexer": "ipython2",
   "version": "2.7.10"
  }
 },
 "nbformat": 4,
 "nbformat_minor": 0
}
